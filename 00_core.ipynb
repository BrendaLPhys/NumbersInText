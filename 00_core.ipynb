{
 "cells": [
  {
   "cell_type": "code",
   "execution_count": null,
   "metadata": {},
   "outputs": [],
   "source": [
    "# default_exp core\n",
    "%load_ext autoreload\n",
    "%autoreload 2"
   ]
  },
  {
   "cell_type": "markdown",
   "metadata": {},
   "source": [
    "# Numbers in text\n",
    "> This is a test module for nbdev that finds numbers in a text and gives back the sum."
   ]
  },
  {
   "cell_type": "code",
   "execution_count": null,
   "metadata": {},
   "outputs": [],
   "source": [
    "#hide\n",
    "from nbdev.showdoc import *\n",
    "from fastcore.test import *"
   ]
  },
  {
   "cell_type": "code",
   "execution_count": null,
   "metadata": {},
   "outputs": [],
   "source": [
    "#export\n",
    "\n",
    "def number_sum(text):\n",
    "    import re\n",
    "    for line in text:\n",
    "        y = re.findall(\"[0-9]+\", text)   \n",
    "    sums = 0 \n",
    "    for list in y:\n",
    "        number = int(list)\n",
    "        sums = sums + number\n",
    "    print('The total is:', sums)"
   ]
  },
  {
   "cell_type": "code",
   "execution_count": null,
   "metadata": {},
   "outputs": [],
   "source": [
    "#export\n",
    "\n",
    "def lettermax(text):\n",
    "    \n",
    "    counts = dict()\n",
    "\n",
    "    for line in text:\n",
    "        words = line.split()\n",
    "        for word in words:\n",
    "            counts[word] = counts.get(word, 0) + 1\n",
    "\n",
    "    bigcount = None\n",
    "    bigword = None\n",
    "    for word, count in list(counts.items()):\n",
    "        if bigcount is None or count > bigcount:\n",
    "            bigword = word\n",
    "            bigcount = count\n",
    "\n",
    "    print('The letter used the most is: ',bigword, ', it was used used: ', bigcount, ' times.')"
   ]
  },
  {
   "cell_type": "code",
   "execution_count": null,
   "metadata": {},
   "outputs": [],
   "source": [
    "#export\n",
    "\n",
    "def numwords(text):\n",
    "    count = 0\n",
    "    for word in text:\n",
    "        count += 1\n",
    "    print(\"Total number of words is:\", count)"
   ]
  },
  {
   "cell_type": "code",
   "execution_count": null,
   "metadata": {},
   "outputs": [
    {
     "name": "stdout",
     "output_type": "stream",
     "text": [
      "Converted 00_core.ipynb.\n",
      "Converted index.ipynb.\n"
     ]
    }
   ],
   "source": [
    "#hide\n",
    "from nbdev.export import *\n",
    "notebook2script()"
   ]
  }
 ],
 "metadata": {
  "kernelspec": {
   "display_name": "Python 3",
   "language": "python",
   "name": "python3"
  }
 },
 "nbformat": 4,
 "nbformat_minor": 2
}
